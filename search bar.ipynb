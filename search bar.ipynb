{
 "cells": [
  {
   "cell_type": "code",
   "execution_count": 1,
   "metadata": {
    "collapsed": false
   },
   "outputs": [
    {
     "name": "stdout",
     "output_type": "stream",
     "text": [
      "False\n",
      "True\n",
      "True\n"
     ]
    }
   ],
   "source": [
    "from collections import defaultdict\n",
    "\n",
    "class Trie:\n",
    "    \"\"\"\n",
    "    Implement a trie with insert, search, and startsWith methods.\n",
    "    \"\"\"\n",
    "    def __init__(self):\n",
    "        self.root = defaultdict()\n",
    "\n",
    "    # @param {string} word\n",
    "    # @return {void}\n",
    "    # Inserts a word into the trie.\n",
    "    def insert(self, word):\n",
    "        current = self.root\n",
    "        for letter in word:\n",
    "            current = current.setdefault(letter, {})\n",
    "        current.setdefault(\"_end\")\n",
    "\n",
    "    # @param {string} word\n",
    "    # @return {boolean}\n",
    "    # Returns if the word is in the trie.\n",
    "    def search(self, word):\n",
    "        current = self.root\n",
    "        for letter in word:\n",
    "            if letter not in current:\n",
    "                return False\n",
    "            current = current[letter]\n",
    "        if \"_end\" in current:\n",
    "            return True\n",
    "        return False\n",
    "\n",
    "    # @param {string} prefix\n",
    "    # @return {boolean}\n",
    "    # Returns if there is any word in the trie\n",
    "    # that starts with the given prefix.\n",
    "    def startsWith(self, prefix):\n",
    "        current = self.root\n",
    "        for letter in prefix:\n",
    "            if letter not in current:\n",
    "                return False\n",
    "            current = current[letter]\n",
    "        return True\n",
    "\n",
    "# Now test the class\n",
    "\n",
    "test = Trie()\n",
    "test.insert('helloworld')\n",
    "test.insert('ilikeapple')\n",
    "test.insert('helloz')\n",
    "\n",
    "print test.search('hello')\n",
    "print test.startsWith('hello')\n",
    "print test.search('ilikeapple')"
   ]
  },
  {
   "cell_type": "code",
   "execution_count": null,
   "metadata": {
    "collapsed": true
   },
   "outputs": [],
   "source": []
  }
 ],
 "metadata": {
  "kernelspec": {
   "display_name": "Python 2",
   "language": "python",
   "name": "python2"
  },
  "language_info": {
   "codemirror_mode": {
    "name": "ipython",
    "version": 2
   },
   "file_extension": ".py",
   "mimetype": "text/x-python",
   "name": "python",
   "nbconvert_exporter": "python",
   "pygments_lexer": "ipython2",
   "version": "2.7.10"
  }
 },
 "nbformat": 4,
 "nbformat_minor": 0
}
